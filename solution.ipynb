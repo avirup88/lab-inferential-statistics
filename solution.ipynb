{
 "cells": [
  {
   "cell_type": "code",
   "execution_count": 1,
   "id": "3feeb368-0d3b-4f81-8a5c-de44e94d8a1d",
   "metadata": {},
   "outputs": [],
   "source": [
    "import numpy as np\n",
    "import scipy.stats as sts"
   ]
  },
  {
   "cell_type": "markdown",
   "id": "36592510-089b-4455-88a4-dc8668d8c574",
   "metadata": {},
   "source": [
    "It is assumed that the mean systolic blood pressure is μ = 120 mm Hg. In the Honolulu Heart Study, a sample of n = 100 people had an average systolic blood pressure of 130.1 mm Hg with a standard deviation of 21.21 mm Hg. Is the group significantly different (with respect to systolic blood pressure!) from the regular population?\n",
    "\n",
    "Set up the hypothesis test.\n",
    "Write down all the steps followed for setting up the test.\n",
    "Calculate the test statistic by hand and also code it in Python. It should be 4.76190. We will take a look at how to make decisions based on this calculated value."
   ]
  },
  {
   "cell_type": "code",
   "execution_count": 4,
   "id": "8b8f6bfd-fb26-4c3c-a998-12aeade788de",
   "metadata": {},
   "outputs": [
    {
     "name": "stdout",
     "output_type": "stream",
     "text": [
      "Test statistic : 4.761904761904759\n"
     ]
    }
   ],
   "source": [
    "#inputs\n",
    "meu = 120\n",
    "n = 100\n",
    "s = 21.21\n",
    "X_mean = 130.1\n",
    "\n",
    "#Calculating test-statistic\n",
    "t_stat = (X_mean - meu)/(s/np.sqrt(n))\n",
    "print(\"Test statistic : {}\".format(t_stat))"
   ]
  },
  {
   "cell_type": "code",
   "execution_count": 6,
   "id": "7fbb1f78-2e58-48eb-bef7-941621f74f54",
   "metadata": {},
   "outputs": [
    {
     "name": "stdout",
     "output_type": "stream",
     "text": [
      "Null Hypothesis : The mean blood pressure of the sample in Honolulu heart study is same as the regular population and is 120 mm Hg\n",
      "Alternate Hypothesis : The mean blood pressure of the sample in Honolulu heart study is not same as the regular population and is not 120 mm Hg\n"
     ]
    }
   ],
   "source": [
    "print(\"Null Hypothesis : The mean blood pressure of the sample in Honolulu heart study is same as the regular population and is 120 mm Hg\")\n",
    "print(\"Alternate Hypothesis : The mean blood pressure of the sample in Honolulu heart study is not same as the regular population and is not 120 mm Hg\")"
   ]
  },
  {
   "cell_type": "code",
   "execution_count": 8,
   "id": "ede27fe7-e1f1-4bcb-a022-88b5bda04a27",
   "metadata": {},
   "outputs": [
    {
     "name": "stdout",
     "output_type": "stream",
     "text": [
      "P-Value : 0.9999990411290555\n",
      "Null Hypothesis cannot be rejected\n"
     ]
    }
   ],
   "source": [
    "#Calculate the p-value of the test statistic\n",
    "p_value = sts.norm.cdf(t_stat)\n",
    "print(\"P-Value : {}\".format(p_value))\n",
    "\n",
    "if p_value < 0.05:\n",
    "    print(\"Null Hypothesis of mean of blood pressure of the sample group and population are same with 120 mm Hg \\\n",
    "           can be rejected with 95% confidence\")\n",
    "else:\n",
    "    print(\"Null Hypothesis cannot be rejected\")    "
   ]
  },
  {
   "cell_type": "code",
   "execution_count": null,
   "id": "9b67dc42-951d-4c80-849f-15c6934f0246",
   "metadata": {},
   "outputs": [],
   "source": []
  }
 ],
 "metadata": {
  "kernelspec": {
   "display_name": "Python 3 (ipykernel)",
   "language": "python",
   "name": "python3"
  },
  "language_info": {
   "codemirror_mode": {
    "name": "ipython",
    "version": 3
   },
   "file_extension": ".py",
   "mimetype": "text/x-python",
   "name": "python",
   "nbconvert_exporter": "python",
   "pygments_lexer": "ipython3",
   "version": "3.12.4"
  }
 },
 "nbformat": 4,
 "nbformat_minor": 5
}
